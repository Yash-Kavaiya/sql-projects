{
 "cells": [
  {
   "cell_type": "markdown",
   "metadata": {},
   "source": [
    "## SQLite and Initial Setup\n",
    "\n",
    "Relational databases generally have two components:\n",
    "\n",
    "1. **Database Server/Engine**: A software package that manages databases and runs in the background, listening for SQL queries from authorized users E.g. MySQL server, Microsoft SQL server, Postgres etc.\n",
    "2. **Database Client**: A command-line tool or graphical user interface (GUI) to connect to the database server and run SQL queries. E.g. MySQL workbench, PgAdmin etc.\n",
    "\n",
    "The server and client can be on the same computer e.g. both on your laptop, or on different computers e.g. the database server can be running on the cloud and you can connect to it using a client installed on your computer.\n",
    "\n",
    "Most database servers/engines are designed to operate on databases containing large amounts of data (e.g. 100s of GBs) and to handle a very high volume of queries (e.g. thousands of queries per second). They typically require powerful hardware i.e. multi-core CPUs and large amounts of RAM.\n",
    "\n",
    "\n",
    "<img src=\"https://www.sqlite.org/images/sqlite370_banner.gif\" width=\"240\" style=\"margin-left:0\">\n",
    "\n",
    "we'll use a lightweight database engine called [SQLite](https://www.sqlite.org/index.html), which is well-suited for databases with small amounts of data and has very limited CPU & RAM requirements. Despite being limited in its capabilities, it is the [most widely used database engine in the world](https://www.sqlite.org/mostdeployed.html). SQLite is used by smartphone apps, web browsers, desktop applications, IoT devices etc. to store and manage data locally on the device. "
   ]
  },
  {
   "cell_type": "code",
   "execution_count": 1,
   "metadata": {},
   "outputs": [
    {
     "name": "stdout",
     "output_type": "stream",
     "text": [
      "3.41.2 2023-03-22 11:56:21 0d1fc92f94cb6b76bffe3ec34d69cffde2924203304e8ffc4155597af0c191da\n"
     ]
    }
   ],
   "source": [
    "!sqlite3 --version"
   ]
  },
  {
   "cell_type": "markdown",
   "metadata": {},
   "source": [
    "Unlike other relational databases, SQLite doesn't have separate server and client packages. The `sqlite3` command line tool is all your need to create and interact with SQLite databases. The databases themselves are stored as files with the extension `.sqlite`. You can perform CRUD operations on the database simply by passing SQL queries using `sqlite3`.\n",
    "\n",
    "Here's a visual representation of how SQLite differs from other relational database servers ([source](https://devopedia.org/sqlite)):\n",
    "\n",
    "<img src=\"https://i.imgur.com/eC5Ieni.png\" width=\"640\">\n",
    "\n",
    "\n",
    "Note that a `.sqlite` file is different from a `.sql` file, which contains commands for creating tables and inserting data. The `.sqlite` file is the actual database where the data is stored in a binary tabular format for efficient querying and manipulation.\n",
    "\n",
    "we'll use the [Chinook open source database](https://github.com/lerocha/chinook-database). Let's begin by downloading the `.sqlite` file for the database containing all the required tables and the sample data. "
   ]
  },
  {
   "cell_type": "code",
   "execution_count": 3,
   "metadata": {},
   "outputs": [],
   "source": [
    "from urllib.request import urlretrieve"
   ]
  },
  {
   "cell_type": "code",
   "execution_count": 4,
   "metadata": {},
   "outputs": [],
   "source": [
    "db_url = 'https://github.com/lerocha/chinook-database/raw/master/ChinookDatabase/DataSources/Chinook_Sqlite.sqlite'"
   ]
  },
  {
   "cell_type": "code",
   "execution_count": 5,
   "metadata": {},
   "outputs": [
    {
     "data": {
      "text/plain": [
       "('chinook.sqlite', <http.client.HTTPMessage at 0x7f5463f5e890>)"
      ]
     },
     "execution_count": 5,
     "metadata": {},
     "output_type": "execute_result"
    }
   ],
   "source": [
    "urlretrieve(db_url, 'chinook.sqlite')"
   ]
  },
  {
   "cell_type": "markdown",
   "metadata": {},
   "source": [
    "The database `chinook.sqlite` is now downloaded. To access and interact with the database by writing SQL queries directly within Jupyter, we'll use the [`ipython-sql`](https://pypi.org/project/ipython-sql/) library that provides the `%%sql` magic commands. It uses the [`sqlalchemy`](https://sqlalchemy.org) library behind the scenes to interact with the database."
   ]
  },
  {
   "cell_type": "code",
   "execution_count": 6,
   "metadata": {},
   "outputs": [
    {
     "name": "stdout",
     "output_type": "stream",
     "text": [
      "\n",
      "\u001b[1m[\u001b[0m\u001b[34;49mnotice\u001b[0m\u001b[1;39;49m]\u001b[0m\u001b[39;49m A new release of pip is available: \u001b[0m\u001b[31;49m23.3.1\u001b[0m\u001b[39;49m -> \u001b[0m\u001b[32;49m23.3.2\u001b[0m\n",
      "\u001b[1m[\u001b[0m\u001b[34;49mnotice\u001b[0m\u001b[1;39;49m]\u001b[0m\u001b[39;49m To update, run: \u001b[0m\u001b[32;49mpython -m pip install --upgrade pip\u001b[0m\n"
     ]
    }
   ],
   "source": [
    "!pip install ipython-sql --quiet --upgrade"
   ]
  },
  {
   "cell_type": "code",
   "execution_count": 7,
   "metadata": {},
   "outputs": [
    {
     "name": "stdout",
     "output_type": "stream",
     "text": [
      "\n",
      "\u001b[1m[\u001b[0m\u001b[34;49mnotice\u001b[0m\u001b[1;39;49m]\u001b[0m\u001b[39;49m A new release of pip is available: \u001b[0m\u001b[31;49m23.3.1\u001b[0m\u001b[39;49m -> \u001b[0m\u001b[32;49m23.3.2\u001b[0m\n",
      "\u001b[1m[\u001b[0m\u001b[34;49mnotice\u001b[0m\u001b[1;39;49m]\u001b[0m\u001b[39;49m To update, run: \u001b[0m\u001b[32;49mpython -m pip install --upgrade pip\u001b[0m\n"
     ]
    }
   ],
   "source": [
    "!pip install sqlalchemy --quiet"
   ]
  },
  {
   "cell_type": "code",
   "execution_count": 8,
   "metadata": {},
   "outputs": [],
   "source": [
    "%load_ext sql"
   ]
  },
  {
   "cell_type": "markdown",
   "metadata": {},
   "source": [
    "We can now connect to the database using a [SQLAlchemy connection string](https://docs.sqlalchemy.org/en/14/core/engines.html). We'll use the `%%sql` Jupyter magic command."
   ]
  },
  {
   "cell_type": "code",
   "execution_count": 9,
   "metadata": {},
   "outputs": [],
   "source": [
    "%%sql \n",
    "\n",
    "sqlite:///chinook.sqlite"
   ]
  },
  {
   "cell_type": "markdown",
   "metadata": {},
   "source": [
    "## Chinook Database Structure and Queries\n",
    "\n",
    "The Chinook database represents a digital media store, including tables for artists, albums, media tracks, invoices and customers. Here's an [Entity Relationship Diagram](https://www.guru99.com/er-diagram-tutorial-dbms.html) (ERD) showing the structure of the Chinook database:\n",
    "\n",
    "![](https://i.imgur.com/X1wM142.png)\n",
    "\n",
    "Let's begin by looking at the data from some of the tables in the database. We can write SQL queries directly within Jupyter code cells by including the magic command `%%sql` as the first line of the cell, indicating that contents of cell represent a SQL query."
   ]
  },
  {
   "cell_type": "code",
   "execution_count": 16,
   "metadata": {},
   "outputs": [
    {
     "name": "stdout",
     "output_type": "stream",
     "text": [
      " * sqlite:///chinook.sqlite\n",
      "(sqlite3.OperationalError) near \".\": syntax error\n",
      "[SQL: .tables]\n",
      "(Background on this error at: https://sqlalche.me/e/20/e3q8)\n"
     ]
    }
   ],
   "source": [
    "%%sql \n",
    ".tables\n"
   ]
  },
  {
   "cell_type": "code",
   "execution_count": 10,
   "metadata": {},
   "outputs": [
    {
     "name": "stdout",
     "output_type": "stream",
     "text": [
      " * sqlite:///chinook.sqlite\n",
      "Done.\n"
     ]
    },
    {
     "data": {
      "text/html": [
       "<table>\n",
       "    <thead>\n",
       "        <tr>\n",
       "            <th>ArtistId</th>\n",
       "            <th>Name</th>\n",
       "        </tr>\n",
       "    </thead>\n",
       "    <tbody>\n",
       "        <tr>\n",
       "            <td>1</td>\n",
       "            <td>AC/DC</td>\n",
       "        </tr>\n",
       "        <tr>\n",
       "            <td>2</td>\n",
       "            <td>Accept</td>\n",
       "        </tr>\n",
       "        <tr>\n",
       "            <td>3</td>\n",
       "            <td>Aerosmith</td>\n",
       "        </tr>\n",
       "        <tr>\n",
       "            <td>4</td>\n",
       "            <td>Alanis Morissette</td>\n",
       "        </tr>\n",
       "        <tr>\n",
       "            <td>5</td>\n",
       "            <td>Alice In Chains</td>\n",
       "        </tr>\n",
       "    </tbody>\n",
       "</table>"
      ],
      "text/plain": [
       "[(1, 'AC/DC'),\n",
       " (2, 'Accept'),\n",
       " (3, 'Aerosmith'),\n",
       " (4, 'Alanis Morissette'),\n",
       " (5, 'Alice In Chains')]"
      ]
     },
     "execution_count": 10,
     "metadata": {},
     "output_type": "execute_result"
    }
   ],
   "source": [
    "%%sql \n",
    "\n",
    "SELECT * FROM Artist LIMIT 5"
   ]
  },
  {
   "cell_type": "code",
   "execution_count": 19,
   "metadata": {},
   "outputs": [
    {
     "name": "stdout",
     "output_type": "stream",
     "text": [
      " * sqlite:///chinook.sqlite\n",
      "Done.\n"
     ]
    },
    {
     "data": {
      "text/html": [
       "<table>\n",
       "    <thead>\n",
       "        <tr>\n",
       "            <th>TrackId</th>\n",
       "            <th>Name</th>\n",
       "            <th>AlbumId</th>\n",
       "            <th>MediaTypeId</th>\n",
       "            <th>GenreId</th>\n",
       "            <th>Composer</th>\n",
       "            <th>Milliseconds</th>\n",
       "            <th>Bytes</th>\n",
       "            <th>UnitPrice</th>\n",
       "        </tr>\n",
       "    </thead>\n",
       "    <tbody>\n",
       "        <tr>\n",
       "            <td>1</td>\n",
       "            <td>For Those About To Rock (We Salute You)</td>\n",
       "            <td>1</td>\n",
       "            <td>1</td>\n",
       "            <td>1</td>\n",
       "            <td>Angus Young, Malcolm Young, Brian Johnson</td>\n",
       "            <td>343719</td>\n",
       "            <td>11170334</td>\n",
       "            <td>0.99</td>\n",
       "        </tr>\n",
       "        <tr>\n",
       "            <td>2</td>\n",
       "            <td>Balls to the Wall</td>\n",
       "            <td>2</td>\n",
       "            <td>2</td>\n",
       "            <td>1</td>\n",
       "            <td>None</td>\n",
       "            <td>342562</td>\n",
       "            <td>5510424</td>\n",
       "            <td>0.99</td>\n",
       "        </tr>\n",
       "        <tr>\n",
       "            <td>3</td>\n",
       "            <td>Fast As a Shark</td>\n",
       "            <td>3</td>\n",
       "            <td>2</td>\n",
       "            <td>1</td>\n",
       "            <td>F. Baltes, S. Kaufman, U. Dirkscneider &amp; W. Hoffman</td>\n",
       "            <td>230619</td>\n",
       "            <td>3990994</td>\n",
       "            <td>0.99</td>\n",
       "        </tr>\n",
       "        <tr>\n",
       "            <td>4</td>\n",
       "            <td>Restless and Wild</td>\n",
       "            <td>3</td>\n",
       "            <td>2</td>\n",
       "            <td>1</td>\n",
       "            <td>F. Baltes, R.A. Smith-Diesel, S. Kaufman, U. Dirkscneider &amp; W. Hoffman</td>\n",
       "            <td>252051</td>\n",
       "            <td>4331779</td>\n",
       "            <td>0.99</td>\n",
       "        </tr>\n",
       "        <tr>\n",
       "            <td>5</td>\n",
       "            <td>Princess of the Dawn</td>\n",
       "            <td>3</td>\n",
       "            <td>2</td>\n",
       "            <td>1</td>\n",
       "            <td>Deaffy &amp; R.A. Smith-Diesel</td>\n",
       "            <td>375418</td>\n",
       "            <td>6290521</td>\n",
       "            <td>0.99</td>\n",
       "        </tr>\n",
       "    </tbody>\n",
       "</table>"
      ],
      "text/plain": [
       "[(1, 'For Those About To Rock (We Salute You)', 1, 1, 1, 'Angus Young, Malcolm Young, Brian Johnson', 343719, 11170334, 0.99),\n",
       " (2, 'Balls to the Wall', 2, 2, 1, None, 342562, 5510424, 0.99),\n",
       " (3, 'Fast As a Shark', 3, 2, 1, 'F. Baltes, S. Kaufman, U. Dirkscneider & W. Hoffman', 230619, 3990994, 0.99),\n",
       " (4, 'Restless and Wild', 3, 2, 1, 'F. Baltes, R.A. Smith-Diesel, S. Kaufman, U. Dirkscneider & W. Hoffman', 252051, 4331779, 0.99),\n",
       " (5, 'Princess of the Dawn', 3, 2, 1, 'Deaffy & R.A. Smith-Diesel', 375418, 6290521, 0.99)]"
      ]
     },
     "execution_count": 19,
     "metadata": {},
     "output_type": "execute_result"
    }
   ],
   "source": [
    "%%sql \n",
    "SELECT * FROM Track LIMIT 5"
   ]
  },
  {
   "cell_type": "code",
   "execution_count": 20,
   "metadata": {},
   "outputs": [
    {
     "name": "stdout",
     "output_type": "stream",
     "text": [
      " * sqlite:///chinook.sqlite\n",
      "Done.\n"
     ]
    },
    {
     "data": {
      "text/html": [
       "<table>\n",
       "    <thead>\n",
       "        <tr>\n",
       "            <th>AlbumId</th>\n",
       "            <th>Title</th>\n",
       "            <th>ArtistId</th>\n",
       "        </tr>\n",
       "    </thead>\n",
       "    <tbody>\n",
       "        <tr>\n",
       "            <td>1</td>\n",
       "            <td>For Those About To Rock We Salute You</td>\n",
       "            <td>1</td>\n",
       "        </tr>\n",
       "        <tr>\n",
       "            <td>2</td>\n",
       "            <td>Balls to the Wall</td>\n",
       "            <td>2</td>\n",
       "        </tr>\n",
       "        <tr>\n",
       "            <td>3</td>\n",
       "            <td>Restless and Wild</td>\n",
       "            <td>2</td>\n",
       "        </tr>\n",
       "        <tr>\n",
       "            <td>4</td>\n",
       "            <td>Let There Be Rock</td>\n",
       "            <td>1</td>\n",
       "        </tr>\n",
       "        <tr>\n",
       "            <td>5</td>\n",
       "            <td>Big Ones</td>\n",
       "            <td>3</td>\n",
       "        </tr>\n",
       "    </tbody>\n",
       "</table>"
      ],
      "text/plain": [
       "[(1, 'For Those About To Rock We Salute You', 1),\n",
       " (2, 'Balls to the Wall', 2),\n",
       " (3, 'Restless and Wild', 2),\n",
       " (4, 'Let There Be Rock', 1),\n",
       " (5, 'Big Ones', 3)]"
      ]
     },
     "execution_count": 20,
     "metadata": {},
     "output_type": "execute_result"
    }
   ],
   "source": [
    "%%sql \n",
    "SELECT * FROM Album LIMIT 5"
   ]
  },
  {
   "cell_type": "markdown",
   "metadata": {},
   "source": [
    "## Selection and Ordering\n",
    "\n",
    "> **QUESTION 1**: Write a SQL query to sort the rows from the table `Track` in alphabetical order of Track name and display the first 10 rows."
   ]
  },
  {
   "cell_type": "code",
   "execution_count": 23,
   "metadata": {},
   "outputs": [
    {
     "name": "stdout",
     "output_type": "stream",
     "text": [
      " * sqlite:///chinook.sqlite\n",
      "Done.\n"
     ]
    },
    {
     "data": {
      "text/html": [
       "<table>\n",
       "    <thead>\n",
       "        <tr>\n",
       "            <th>TrackId</th>\n",
       "            <th>Name</th>\n",
       "            <th>AlbumId</th>\n",
       "            <th>MediaTypeId</th>\n",
       "            <th>GenreId</th>\n",
       "            <th>Composer</th>\n",
       "            <th>Milliseconds</th>\n",
       "            <th>Bytes</th>\n",
       "            <th>UnitPrice</th>\n",
       "        </tr>\n",
       "    </thead>\n",
       "    <tbody>\n",
       "        <tr>\n",
       "            <td>3027</td>\n",
       "            <td>&quot;40&quot;</td>\n",
       "            <td>239</td>\n",
       "            <td>1</td>\n",
       "            <td>1</td>\n",
       "            <td>U2</td>\n",
       "            <td>157962</td>\n",
       "            <td>5251767</td>\n",
       "            <td>0.99</td>\n",
       "        </tr>\n",
       "        <tr>\n",
       "            <td>2918</td>\n",
       "            <td>&quot;?&quot;</td>\n",
       "            <td>231</td>\n",
       "            <td>3</td>\n",
       "            <td>19</td>\n",
       "            <td>None</td>\n",
       "            <td>2782333</td>\n",
       "            <td>528227089</td>\n",
       "            <td>1.99</td>\n",
       "        </tr>\n",
       "        <tr>\n",
       "            <td>3412</td>\n",
       "            <td>&quot;Eine Kleine Nachtmusik&quot; Serenade In G, K. 525: I. Allegro</td>\n",
       "            <td>281</td>\n",
       "            <td>2</td>\n",
       "            <td>24</td>\n",
       "            <td>Wolfgang Amadeus Mozart</td>\n",
       "            <td>348971</td>\n",
       "            <td>5760129</td>\n",
       "            <td>0.99</td>\n",
       "        </tr>\n",
       "        <tr>\n",
       "            <td>109</td>\n",
       "            <td>#1 Zero</td>\n",
       "            <td>11</td>\n",
       "            <td>1</td>\n",
       "            <td>4</td>\n",
       "            <td>Cornell, Commerford, Morello, Wilk</td>\n",
       "            <td>299102</td>\n",
       "            <td>9731988</td>\n",
       "            <td>0.99</td>\n",
       "        </tr>\n",
       "        <tr>\n",
       "            <td>3254</td>\n",
       "            <td>#9 Dream</td>\n",
       "            <td>255</td>\n",
       "            <td>2</td>\n",
       "            <td>9</td>\n",
       "            <td>None</td>\n",
       "            <td>278312</td>\n",
       "            <td>4506425</td>\n",
       "            <td>0.99</td>\n",
       "        </tr>\n",
       "        <tr>\n",
       "            <td>602</td>\n",
       "            <td>&#x27;Round Midnight</td>\n",
       "            <td>48</td>\n",
       "            <td>1</td>\n",
       "            <td>2</td>\n",
       "            <td>Miles Davis</td>\n",
       "            <td>357459</td>\n",
       "            <td>11590284</td>\n",
       "            <td>0.99</td>\n",
       "        </tr>\n",
       "        <tr>\n",
       "            <td>1833</td>\n",
       "            <td>(Anesthesia) Pulling Teeth</td>\n",
       "            <td>150</td>\n",
       "            <td>1</td>\n",
       "            <td>3</td>\n",
       "            <td>Cliff Burton</td>\n",
       "            <td>254955</td>\n",
       "            <td>8234710</td>\n",
       "            <td>0.99</td>\n",
       "        </tr>\n",
       "        <tr>\n",
       "            <td>570</td>\n",
       "            <td>(Da Le) Yaleo</td>\n",
       "            <td>46</td>\n",
       "            <td>1</td>\n",
       "            <td>1</td>\n",
       "            <td>Santana</td>\n",
       "            <td>353488</td>\n",
       "            <td>11769507</td>\n",
       "            <td>0.99</td>\n",
       "        </tr>\n",
       "        <tr>\n",
       "            <td>3045</td>\n",
       "            <td>(I Can&#x27;t Help) Falling In Love With You</td>\n",
       "            <td>241</td>\n",
       "            <td>1</td>\n",
       "            <td>8</td>\n",
       "            <td>None</td>\n",
       "            <td>207568</td>\n",
       "            <td>6905623</td>\n",
       "            <td>0.99</td>\n",
       "        </tr>\n",
       "        <tr>\n",
       "            <td>3057</td>\n",
       "            <td>(Oh) Pretty Woman</td>\n",
       "            <td>242</td>\n",
       "            <td>1</td>\n",
       "            <td>1</td>\n",
       "            <td>Bill Dees/Roy Orbison</td>\n",
       "            <td>174680</td>\n",
       "            <td>5665828</td>\n",
       "            <td>0.99</td>\n",
       "        </tr>\n",
       "    </tbody>\n",
       "</table>"
      ],
      "text/plain": [
       "[(3027, '\"40\"', 239, 1, 1, 'U2', 157962, 5251767, 0.99),\n",
       " (2918, '\"?\"', 231, 3, 19, None, 2782333, 528227089, 1.99),\n",
       " (3412, '\"Eine Kleine Nachtmusik\" Serenade In G, K. 525: I. Allegro', 281, 2, 24, 'Wolfgang Amadeus Mozart', 348971, 5760129, 0.99),\n",
       " (109, '#1 Zero', 11, 1, 4, 'Cornell, Commerford, Morello, Wilk', 299102, 9731988, 0.99),\n",
       " (3254, '#9 Dream', 255, 2, 9, None, 278312, 4506425, 0.99),\n",
       " (602, \"'Round Midnight\", 48, 1, 2, 'Miles Davis', 357459, 11590284, 0.99),\n",
       " (1833, '(Anesthesia) Pulling Teeth', 150, 1, 3, 'Cliff Burton', 254955, 8234710, 0.99),\n",
       " (570, '(Da Le) Yaleo', 46, 1, 1, 'Santana', 353488, 11769507, 0.99),\n",
       " (3045, \"(I Can't Help) Falling In Love With You\", 241, 1, 8, None, 207568, 6905623, 0.99),\n",
       " (3057, '(Oh) Pretty Woman', 242, 1, 1, 'Bill Dees/Roy Orbison', 174680, 5665828, 0.99)]"
      ]
     },
     "execution_count": 23,
     "metadata": {},
     "output_type": "execute_result"
    }
   ],
   "source": [
    "%%sql\n",
    "\n",
    "SELECT *\n",
    "FROM Track\n",
    "ORDER BY Name\n",
    "LIMIT 10;\n"
   ]
  },
  {
   "cell_type": "markdown",
   "metadata": {},
   "source": [
    "Write a SQL query to show the _next 10_ rows based on the above criteria."
   ]
  },
  {
   "cell_type": "code",
   "execution_count": 24,
   "metadata": {},
   "outputs": [
    {
     "name": "stdout",
     "output_type": "stream",
     "text": [
      " * sqlite:///chinook.sqlite\n",
      "Done.\n"
     ]
    },
    {
     "data": {
      "text/html": [
       "<table>\n",
       "    <thead>\n",
       "        <tr>\n",
       "            <th>TrackId</th>\n",
       "            <th>Name</th>\n",
       "            <th>AlbumId</th>\n",
       "            <th>MediaTypeId</th>\n",
       "            <th>GenreId</th>\n",
       "            <th>Composer</th>\n",
       "            <th>Milliseconds</th>\n",
       "            <th>Bytes</th>\n",
       "            <th>UnitPrice</th>\n",
       "        </tr>\n",
       "    </thead>\n",
       "    <tbody>\n",
       "        <tr>\n",
       "            <td>3471</td>\n",
       "            <td>(There Is) No Greater Love (Teo Licks)</td>\n",
       "            <td>322</td>\n",
       "            <td>2</td>\n",
       "            <td>9</td>\n",
       "            <td>Isham Jones &amp; Marty Symes</td>\n",
       "            <td>167933</td>\n",
       "            <td>2773507</td>\n",
       "            <td>0.99</td>\n",
       "        </tr>\n",
       "        <tr>\n",
       "            <td>1947</td>\n",
       "            <td>(We Are) The Road Crew</td>\n",
       "            <td>160</td>\n",
       "            <td>1</td>\n",
       "            <td>3</td>\n",
       "            <td>Clarke/Kilmister/Taylor</td>\n",
       "            <td>192600</td>\n",
       "            <td>6283035</td>\n",
       "            <td>0.99</td>\n",
       "        </tr>\n",
       "        <tr>\n",
       "            <td>2595</td>\n",
       "            <td>(White Man) In Hammersmith Palais</td>\n",
       "            <td>211</td>\n",
       "            <td>1</td>\n",
       "            <td>4</td>\n",
       "            <td>Joe Strummer/Mick Jones</td>\n",
       "            <td>240640</td>\n",
       "            <td>7883532</td>\n",
       "            <td>0.99</td>\n",
       "        </tr>\n",
       "        <tr>\n",
       "            <td>709</td>\n",
       "            <td>(Wish I Could) Hideaway</td>\n",
       "            <td>55</td>\n",
       "            <td>1</td>\n",
       "            <td>1</td>\n",
       "            <td>J.C. Fogerty</td>\n",
       "            <td>228466</td>\n",
       "            <td>7432978</td>\n",
       "            <td>0.99</td>\n",
       "        </tr>\n",
       "        <tr>\n",
       "            <td>2869</td>\n",
       "            <td>...And Found</td>\n",
       "            <td>231</td>\n",
       "            <td>3</td>\n",
       "            <td>19</td>\n",
       "            <td>None</td>\n",
       "            <td>2563833</td>\n",
       "            <td>500330548</td>\n",
       "            <td>1.99</td>\n",
       "        </tr>\n",
       "        <tr>\n",
       "            <td>1894</td>\n",
       "            <td>...And Justice For All</td>\n",
       "            <td>156</td>\n",
       "            <td>1</td>\n",
       "            <td>3</td>\n",
       "            <td>James Hetfield, Lars Ulrich &amp; Kirk Hammett</td>\n",
       "            <td>585769</td>\n",
       "            <td>19262088</td>\n",
       "            <td>0.99</td>\n",
       "        </tr>\n",
       "        <tr>\n",
       "            <td>2906</td>\n",
       "            <td>...In Translation</td>\n",
       "            <td>230</td>\n",
       "            <td>3</td>\n",
       "            <td>19</td>\n",
       "            <td>None</td>\n",
       "            <td>2604575</td>\n",
       "            <td>215441983</td>\n",
       "            <td>1.99</td>\n",
       "        </tr>\n",
       "        <tr>\n",
       "            <td>3166</td>\n",
       "            <td>.07%</td>\n",
       "            <td>228</td>\n",
       "            <td>3</td>\n",
       "            <td>21</td>\n",
       "            <td>None</td>\n",
       "            <td>2585794</td>\n",
       "            <td>541715199</td>\n",
       "            <td>1.99</td>\n",
       "        </tr>\n",
       "        <tr>\n",
       "            <td>1268</td>\n",
       "            <td>01 - Prowler</td>\n",
       "            <td>100</td>\n",
       "            <td>1</td>\n",
       "            <td>6</td>\n",
       "            <td>Steve Harris</td>\n",
       "            <td>236173</td>\n",
       "            <td>5668992</td>\n",
       "            <td>0.99</td>\n",
       "        </tr>\n",
       "        <tr>\n",
       "            <td>1269</td>\n",
       "            <td>02 - Sanctuary</td>\n",
       "            <td>100</td>\n",
       "            <td>1</td>\n",
       "            <td>6</td>\n",
       "            <td>David Murray/Paul Di&#x27;Anno/Steve Harris</td>\n",
       "            <td>196284</td>\n",
       "            <td>4712576</td>\n",
       "            <td>0.99</td>\n",
       "        </tr>\n",
       "    </tbody>\n",
       "</table>"
      ],
      "text/plain": [
       "[(3471, '(There Is) No Greater Love (Teo Licks)', 322, 2, 9, 'Isham Jones & Marty Symes', 167933, 2773507, 0.99),\n",
       " (1947, '(We Are) The Road Crew', 160, 1, 3, 'Clarke/Kilmister/Taylor', 192600, 6283035, 0.99),\n",
       " (2595, '(White Man) In Hammersmith Palais', 211, 1, 4, 'Joe Strummer/Mick Jones', 240640, 7883532, 0.99),\n",
       " (709, '(Wish I Could) Hideaway', 55, 1, 1, 'J.C. Fogerty', 228466, 7432978, 0.99),\n",
       " (2869, '...And Found', 231, 3, 19, None, 2563833, 500330548, 1.99),\n",
       " (1894, '...And Justice For All', 156, 1, 3, 'James Hetfield, Lars Ulrich & Kirk Hammett', 585769, 19262088, 0.99),\n",
       " (2906, '...In Translation', 230, 3, 19, None, 2604575, 215441983, 1.99),\n",
       " (3166, '.07%', 228, 3, 21, None, 2585794, 541715199, 1.99),\n",
       " (1268, '01 - Prowler', 100, 1, 6, 'Steve Harris', 236173, 5668992, 0.99),\n",
       " (1269, '02 - Sanctuary', 100, 1, 6, \"David Murray/Paul Di'Anno/Steve Harris\", 196284, 4712576, 0.99)]"
      ]
     },
     "execution_count": 24,
     "metadata": {},
     "output_type": "execute_result"
    }
   ],
   "source": [
    "%%sql \n",
    "\n",
    "SELECT * from track\n",
    "order by track.Name asc\n",
    "LIMIT 10\n",
    "OFFSET 10;"
   ]
  },
  {
   "cell_type": "markdown",
   "metadata": {},
   "source": [
    "Write some SQL queries in the cells below to explore the first few rows of each table in the database."
   ]
  },
  {
   "cell_type": "code",
   "execution_count": 25,
   "metadata": {},
   "outputs": [
    {
     "name": "stdout",
     "output_type": "stream",
     "text": [
      " * sqlite:///chinook.sqlite\n",
      "Done.\n"
     ]
    },
    {
     "data": {
      "text/html": [
       "<table>\n",
       "    <thead>\n",
       "        <tr>\n",
       "            <th>total_tables</th>\n",
       "        </tr>\n",
       "    </thead>\n",
       "    <tbody>\n",
       "        <tr>\n",
       "            <td>11</td>\n",
       "        </tr>\n",
       "    </tbody>\n",
       "</table>"
      ],
      "text/plain": [
       "[(11,)]"
      ]
     },
     "execution_count": 25,
     "metadata": {},
     "output_type": "execute_result"
    }
   ],
   "source": [
    "%%sql\n",
    "\n",
    "Select count(name) as total_tables from sqlite_master\n",
    "Where type ='table' and name Not Like 'sqlite_%';"
   ]
  },
  {
   "cell_type": "code",
   "execution_count": 26,
   "metadata": {},
   "outputs": [
    {
     "name": "stdout",
     "output_type": "stream",
     "text": [
      " * sqlite:///chinook.sqlite\n",
      "Done.\n"
     ]
    },
    {
     "data": {
      "text/html": [
       "<table>\n",
       "    <thead>\n",
       "        <tr>\n",
       "            <th>table_names</th>\n",
       "        </tr>\n",
       "    </thead>\n",
       "    <tbody>\n",
       "        <tr>\n",
       "            <td>Album</td>\n",
       "        </tr>\n",
       "        <tr>\n",
       "            <td>Artist</td>\n",
       "        </tr>\n",
       "        <tr>\n",
       "            <td>Customer</td>\n",
       "        </tr>\n",
       "        <tr>\n",
       "            <td>Employee</td>\n",
       "        </tr>\n",
       "        <tr>\n",
       "            <td>Genre</td>\n",
       "        </tr>\n",
       "        <tr>\n",
       "            <td>Invoice</td>\n",
       "        </tr>\n",
       "        <tr>\n",
       "            <td>InvoiceLine</td>\n",
       "        </tr>\n",
       "        <tr>\n",
       "            <td>MediaType</td>\n",
       "        </tr>\n",
       "        <tr>\n",
       "            <td>Playlist</td>\n",
       "        </tr>\n",
       "        <tr>\n",
       "            <td>PlaylistTrack</td>\n",
       "        </tr>\n",
       "        <tr>\n",
       "            <td>Track</td>\n",
       "        </tr>\n",
       "    </tbody>\n",
       "</table>"
      ],
      "text/plain": [
       "[('Album',),\n",
       " ('Artist',),\n",
       " ('Customer',),\n",
       " ('Employee',),\n",
       " ('Genre',),\n",
       " ('Invoice',),\n",
       " ('InvoiceLine',),\n",
       " ('MediaType',),\n",
       " ('Playlist',),\n",
       " ('PlaylistTrack',),\n",
       " ('Track',)]"
      ]
     },
     "execution_count": 26,
     "metadata": {},
     "output_type": "execute_result"
    }
   ],
   "source": [
    "%%sql\n",
    "\n",
    "Select name as table_names from sqlite_master\n",
    "Where type ='table' and name Not Like 'sqlite_%';"
   ]
  },
  {
   "cell_type": "code",
   "execution_count": 27,
   "metadata": {},
   "outputs": [
    {
     "name": "stdout",
     "output_type": "stream",
     "text": [
      " * sqlite:///chinook.sqlite\n",
      "Done.\n"
     ]
    },
    {
     "data": {
      "text/html": [
       "<table>\n",
       "    <thead>\n",
       "        <tr>\n",
       "            <th>table_names</th>\n",
       "        </tr>\n",
       "    </thead>\n",
       "    <tbody>\n",
       "        <tr>\n",
       "            <td>Album</td>\n",
       "        </tr>\n",
       "        <tr>\n",
       "            <td>Artist</td>\n",
       "        </tr>\n",
       "        <tr>\n",
       "            <td>Customer</td>\n",
       "        </tr>\n",
       "        <tr>\n",
       "            <td>Employee</td>\n",
       "        </tr>\n",
       "        <tr>\n",
       "            <td>Genre</td>\n",
       "        </tr>\n",
       "        <tr>\n",
       "            <td>Invoice</td>\n",
       "        </tr>\n",
       "        <tr>\n",
       "            <td>InvoiceLine</td>\n",
       "        </tr>\n",
       "        <tr>\n",
       "            <td>MediaType</td>\n",
       "        </tr>\n",
       "        <tr>\n",
       "            <td>Playlist</td>\n",
       "        </tr>\n",
       "        <tr>\n",
       "            <td>PlaylistTrack</td>\n",
       "        </tr>\n",
       "        <tr>\n",
       "            <td>Track</td>\n",
       "        </tr>\n",
       "    </tbody>\n",
       "</table>"
      ],
      "text/plain": [
       "[('Album',),\n",
       " ('Artist',),\n",
       " ('Customer',),\n",
       " ('Employee',),\n",
       " ('Genre',),\n",
       " ('Invoice',),\n",
       " ('InvoiceLine',),\n",
       " ('MediaType',),\n",
       " ('Playlist',),\n",
       " ('PlaylistTrack',),\n",
       " ('Track',)]"
      ]
     },
     "execution_count": 27,
     "metadata": {},
     "output_type": "execute_result"
    }
   ],
   "source": [
    "%%sql\n",
    "\n",
    "Select name as table_names from sqlite_master\n",
    "Where type ='table';"
   ]
  },
  {
   "cell_type": "markdown",
   "metadata": {},
   "source": [
    "## Counting\n",
    "\n",
    "> **QUESTION 2**: Write a SQL query to calculate the total number of employees working at Chinook."
   ]
  },
  {
   "cell_type": "code",
   "execution_count": 34,
   "metadata": {},
   "outputs": [
    {
     "name": "stdout",
     "output_type": "stream",
     "text": [
      " * sqlite:///chinook.sqlite\n",
      "Done.\n"
     ]
    },
    {
     "data": {
      "text/html": [
       "<table>\n",
       "    <thead>\n",
       "        <tr>\n",
       "            <th>TOTAL</th>\n",
       "        </tr>\n",
       "    </thead>\n",
       "    <tbody>\n",
       "        <tr>\n",
       "            <td>8</td>\n",
       "        </tr>\n",
       "    </tbody>\n",
       "</table>"
      ],
      "text/plain": [
       "[(8,)]"
      ]
     },
     "execution_count": 34,
     "metadata": {},
     "output_type": "execute_result"
    }
   ],
   "source": [
    "%%sql\n",
    "SELECT COUNT(EmployeeId) AS 'TOTAL'  FROM Employee"
   ]
  },
  {
   "cell_type": "markdown",
   "metadata": {},
   "source": [
    "Write SQL queries to calculate the total number customers, total number of artists and total number of tracks in the database."
   ]
  },
  {
   "cell_type": "code",
   "execution_count": 36,
   "metadata": {},
   "outputs": [
    {
     "name": "stdout",
     "output_type": "stream",
     "text": [
      " * sqlite:///chinook.sqlite\n",
      "Done.\n"
     ]
    },
    {
     "data": {
      "text/html": [
       "<table>\n",
       "    <thead>\n",
       "        <tr>\n",
       "            <th>TotalCustomers</th>\n",
       "        </tr>\n",
       "    </thead>\n",
       "    <tbody>\n",
       "        <tr>\n",
       "            <td>59</td>\n",
       "        </tr>\n",
       "    </tbody>\n",
       "</table>"
      ],
      "text/plain": [
       "[(59,)]"
      ]
     },
     "execution_count": 36,
     "metadata": {},
     "output_type": "execute_result"
    }
   ],
   "source": [
    "%%sql \n",
    "\n",
    "SELECT COUNT(DISTINCT CustomerId) as TotalCustomers from 'Customer';"
   ]
  },
  {
   "cell_type": "code",
   "execution_count": 37,
   "metadata": {},
   "outputs": [
    {
     "name": "stdout",
     "output_type": "stream",
     "text": [
      " * sqlite:///chinook.sqlite\n",
      "Done.\n"
     ]
    },
    {
     "data": {
      "text/html": [
       "<table>\n",
       "    <thead>\n",
       "        <tr>\n",
       "            <th>TotalArtists</th>\n",
       "        </tr>\n",
       "    </thead>\n",
       "    <tbody>\n",
       "        <tr>\n",
       "            <td>275</td>\n",
       "        </tr>\n",
       "    </tbody>\n",
       "</table>"
      ],
      "text/plain": [
       "[(275,)]"
      ]
     },
     "execution_count": 37,
     "metadata": {},
     "output_type": "execute_result"
    }
   ],
   "source": [
    "%%sql \n",
    "\n",
    "SELECT COUNT(DISTINCT ArtistId) as TotalArtists from 'Artist';"
   ]
  },
  {
   "cell_type": "code",
   "execution_count": 38,
   "metadata": {},
   "outputs": [
    {
     "name": "stdout",
     "output_type": "stream",
     "text": [
      " * sqlite:///chinook.sqlite\n",
      "Done.\n"
     ]
    },
    {
     "data": {
      "text/html": [
       "<table>\n",
       "    <thead>\n",
       "        <tr>\n",
       "            <th>TotalTracks</th>\n",
       "        </tr>\n",
       "    </thead>\n",
       "    <tbody>\n",
       "        <tr>\n",
       "            <td>3503</td>\n",
       "        </tr>\n",
       "    </tbody>\n",
       "</table>"
      ],
      "text/plain": [
       "[(3503,)]"
      ]
     },
     "execution_count": 38,
     "metadata": {},
     "output_type": "execute_result"
    }
   ],
   "source": [
    "%%sql \n",
    "\n",
    "SELECT COUNT(DISTINCT TrackId) as TotalTracks from 'Track';"
   ]
  },
  {
   "cell_type": "markdown",
   "metadata": {},
   "source": [
    "## Aggregation and Grouping\n",
    "\n",
    "> **QUESTION 3**: Write a SQL query to show the top 10 albums with the highest number of tracks. The result should contain 2 columns: album ID and number of tracks in the album (name the column \"Tracks\"). Here are the first few rows of the result:\n",
    "\n",
    "<img src=\"https://i.imgur.com/0vGhVMZ.png\" width=\"120\">"
   ]
  },
  {
   "cell_type": "code",
   "execution_count": 43,
   "metadata": {},
   "outputs": [
    {
     "name": "stdout",
     "output_type": "stream",
     "text": [
      " * sqlite:///chinook.sqlite\n",
      "Done.\n"
     ]
    },
    {
     "data": {
      "text/html": [
       "<table>\n",
       "    <thead>\n",
       "        <tr>\n",
       "            <th>AlbumId</th>\n",
       "            <th>Tracks</th>\n",
       "        </tr>\n",
       "    </thead>\n",
       "    <tbody>\n",
       "        <tr>\n",
       "            <td>141</td>\n",
       "            <td>57</td>\n",
       "        </tr>\n",
       "        <tr>\n",
       "            <td>23</td>\n",
       "            <td>34</td>\n",
       "        </tr>\n",
       "        <tr>\n",
       "            <td>73</td>\n",
       "            <td>30</td>\n",
       "        </tr>\n",
       "        <tr>\n",
       "            <td>229</td>\n",
       "            <td>26</td>\n",
       "        </tr>\n",
       "        <tr>\n",
       "            <td>230</td>\n",
       "            <td>25</td>\n",
       "        </tr>\n",
       "        <tr>\n",
       "            <td>251</td>\n",
       "            <td>25</td>\n",
       "        </tr>\n",
       "        <tr>\n",
       "            <td>83</td>\n",
       "            <td>24</td>\n",
       "        </tr>\n",
       "        <tr>\n",
       "            <td>231</td>\n",
       "            <td>24</td>\n",
       "        </tr>\n",
       "        <tr>\n",
       "            <td>253</td>\n",
       "            <td>24</td>\n",
       "        </tr>\n",
       "        <tr>\n",
       "            <td>24</td>\n",
       "            <td>23</td>\n",
       "        </tr>\n",
       "    </tbody>\n",
       "</table>"
      ],
      "text/plain": [
       "[(141, 57),\n",
       " (23, 34),\n",
       " (73, 30),\n",
       " (229, 26),\n",
       " (230, 25),\n",
       " (251, 25),\n",
       " (83, 24),\n",
       " (231, 24),\n",
       " (253, 24),\n",
       " (24, 23)]"
      ]
     },
     "execution_count": 43,
     "metadata": {},
     "output_type": "execute_result"
    }
   ],
   "source": [
    "%%sql\n",
    "\n",
    "SELECT AlbumID, COUNT(TrackID) AS Tracks\n",
    "FROM Track\n",
    "GROUP BY AlbumID\n",
    "ORDER BY Tracks DESC\n",
    "LIMIT 10;"
   ]
  },
  {
   "cell_type": "markdown",
   "metadata": {},
   "source": [
    "Improve the above query to also show the album name, artist ID and artist name. Enter the updated query in the empty cell below."
   ]
  },
  {
   "cell_type": "code",
   "execution_count": 44,
   "metadata": {},
   "outputs": [
    {
     "name": "stdout",
     "output_type": "stream",
     "text": [
      " * sqlite:///chinook.sqlite\n",
      "Done.\n"
     ]
    },
    {
     "data": {
      "text/html": [
       "<table>\n",
       "    <thead>\n",
       "        <tr>\n",
       "            <th>AlbumName</th>\n",
       "            <th>ArtistId</th>\n",
       "            <th>ArtistName</th>\n",
       "            <th>AlbumId</th>\n",
       "            <th>NumberOfTracks</th>\n",
       "        </tr>\n",
       "    </thead>\n",
       "    <tbody>\n",
       "        <tr>\n",
       "            <td>Greatest Hits</td>\n",
       "            <td>100</td>\n",
       "            <td>Lenny Kravitz</td>\n",
       "            <td>141</td>\n",
       "            <td>57</td>\n",
       "        </tr>\n",
       "        <tr>\n",
       "            <td>Minha Historia</td>\n",
       "            <td>17</td>\n",
       "            <td>Chico Buarque</td>\n",
       "            <td>23</td>\n",
       "            <td>34</td>\n",
       "        </tr>\n",
       "        <tr>\n",
       "            <td>Unplugged</td>\n",
       "            <td>81</td>\n",
       "            <td>Eric Clapton</td>\n",
       "            <td>73</td>\n",
       "            <td>30</td>\n",
       "        </tr>\n",
       "        <tr>\n",
       "            <td>Lost, Season 3</td>\n",
       "            <td>149</td>\n",
       "            <td>Lost</td>\n",
       "            <td>229</td>\n",
       "            <td>26</td>\n",
       "        </tr>\n",
       "        <tr>\n",
       "            <td>The Office, Season 3</td>\n",
       "            <td>156</td>\n",
       "            <td>The Office</td>\n",
       "            <td>251</td>\n",
       "            <td>25</td>\n",
       "        </tr>\n",
       "        <tr>\n",
       "            <td>Lost, Season 1</td>\n",
       "            <td>149</td>\n",
       "            <td>Lost</td>\n",
       "            <td>230</td>\n",
       "            <td>25</td>\n",
       "        </tr>\n",
       "        <tr>\n",
       "            <td>My Way: The Best Of Frank Sinatra [Disc 1]</td>\n",
       "            <td>85</td>\n",
       "            <td>Frank Sinatra</td>\n",
       "            <td>83</td>\n",
       "            <td>24</td>\n",
       "        </tr>\n",
       "        <tr>\n",
       "            <td>Lost, Season 2</td>\n",
       "            <td>149</td>\n",
       "            <td>Lost</td>\n",
       "            <td>231</td>\n",
       "            <td>24</td>\n",
       "        </tr>\n",
       "        <tr>\n",
       "            <td>Battlestar Galactica (Classic), Season 1</td>\n",
       "            <td>158</td>\n",
       "            <td>Battlestar Galactica (Classic)</td>\n",
       "            <td>253</td>\n",
       "            <td>24</td>\n",
       "        </tr>\n",
       "        <tr>\n",
       "            <td>Instant Karma: The Amnesty International Campaign to Save Darfur</td>\n",
       "            <td>150</td>\n",
       "            <td>U2</td>\n",
       "            <td>255</td>\n",
       "            <td>23</td>\n",
       "        </tr>\n",
       "    </tbody>\n",
       "</table>"
      ],
      "text/plain": [
       "[('Greatest Hits', 100, 'Lenny Kravitz', 141, 57),\n",
       " ('Minha Historia', 17, 'Chico Buarque', 23, 34),\n",
       " ('Unplugged', 81, 'Eric Clapton', 73, 30),\n",
       " ('Lost, Season 3', 149, 'Lost', 229, 26),\n",
       " ('The Office, Season 3', 156, 'The Office', 251, 25),\n",
       " ('Lost, Season 1', 149, 'Lost', 230, 25),\n",
       " ('My Way: The Best Of Frank Sinatra [Disc 1]', 85, 'Frank Sinatra', 83, 24),\n",
       " ('Lost, Season 2', 149, 'Lost', 231, 24),\n",
       " ('Battlestar Galactica (Classic), Season 1', 158, 'Battlestar Galactica (Classic)', 253, 24),\n",
       " ('Instant Karma: The Amnesty International Campaign to Save Darfur', 150, 'U2', 255, 23)]"
      ]
     },
     "execution_count": 44,
     "metadata": {},
     "output_type": "execute_result"
    }
   ],
   "source": [
    "%%sql \n",
    "\n",
    "SELECT a.Title as AlbumName, ar.ArtistId, ar.Name as ArtistName, a.AlbumId , count(t.Name) as NumberOfTracks\n",
    "FROM Album a\n",
    "JOIN Track t ON a.AlbumId = t.AlbumId\n",
    "JOIN Artist ar ON a.ArtistId = ar.ArtistId\n",
    "GROUP BY a.Title\n",
    "ORDER BY NumberOfTracks DESC\n",
    "LIMIT 10;"
   ]
  },
  {
   "cell_type": "code",
   "execution_count": null,
   "metadata": {},
   "outputs": [],
   "source": []
  }
 ],
 "metadata": {
  "kernelspec": {
   "display_name": "Python 3",
   "language": "python",
   "name": "python3"
  },
  "language_info": {
   "codemirror_mode": {
    "name": "ipython",
    "version": 3
   },
   "file_extension": ".py",
   "mimetype": "text/x-python",
   "name": "python",
   "nbconvert_exporter": "python",
   "pygments_lexer": "ipython3",
   "version": "3.10.13"
  }
 },
 "nbformat": 4,
 "nbformat_minor": 2
}
